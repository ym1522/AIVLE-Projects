{
 "cells": [
  {
   "cell_type": "markdown",
   "metadata": {},
   "source": [
    "## 맨 아래 SUMMARY 있음"
   ]
  },
  {
   "cell_type": "code",
   "execution_count": 17,
   "metadata": {},
   "outputs": [],
   "source": [
    "import warnings\n",
    "warnings.filterwarnings(action='ignore')\n",
    "\n",
    "import sklearn\n",
    "import pandas as pd\n",
    "import matplotlib.font_manager as fm\n",
    "import matplotlib.pyplot as plt\n",
    "import tensorflow as tf\n",
    "import numpy as np\n",
    "from konlpy.tag import Mecab\n",
    "\n",
    "fm.findSystemFonts()\n",
    "plt.rcParams['font.family']= [\"NanumGothicCoding\"]\n",
    "plt.rcParams[\"axes.unicode_minus\"]=False\n",
    "\n",
    "import tensorflow as tf\n",
    "import nltk\n",
    "from sklearn.linear_model import SGDClassifier\n",
    "from konlpy.tag import Mecab\n",
    "from sklearn.metrics import accuracy_score,f1_score,confusion_matrix, classification_report\n",
    "from sklearn.model_selection import train_test_split\n",
    "from sklearn.feature_extraction.text import CountVectorizer\n",
    "from sklearn.feature_extraction.text import TfidfVectorizer\n",
    "from sklearn.feature_extraction.text import TfidfTransformer\n",
    "from sklearn.model_selection import GridSearchCV\n",
    "from sklearn.pipeline import Pipeline\n",
    "\n",
    "from tensorflow.keras.preprocessing.text import Tokenizer\n",
    "from tensorflow.keras.utils import to_categorical\n",
    "from tensorflow.keras.layers import *\n",
    "from tensorflow.keras.models import Sequential, load_model, Model\n",
    "from tensorflow.keras.callbacks import EarlyStopping, ModelCheckpoint,  ReduceLROnPlateau\n",
    "from tensorflow.keras.regularizers import *\n",
    "from tensorflow.keras.preprocessing.sequence import pad_sequences\n",
    "from tensorflow.keras.optimizers import Adam, RMSprop\n",
    "\n",
    "import nltk\n",
    "from nltk.tokenize import word_tokenize\n",
    "from nltk.corpus import stopwords\n",
    "from nltk.stem.snowball import SnowballStemmer\n",
    "#\n",
    "from sklearn.feature_extraction.text import CountVectorizer"
   ]
  },
  {
   "cell_type": "code",
   "execution_count": 18,
   "metadata": {},
   "outputs": [],
   "source": [
    "train = pd.read_csv('spam.csv')\n",
    "test = pd.read_csv('test.csv')"
   ]
  },
  {
   "cell_type": "code",
   "execution_count": 19,
   "metadata": {},
   "outputs": [],
   "source": [
    "test['label'] = test['label'].map( {'spam': 1, 'ham': 0} ).astype(int)"
   ]
  },
  {
   "cell_type": "markdown",
   "metadata": {},
   "source": [
    "## 결측치 제거"
   ]
  },
  {
   "cell_type": "code",
   "execution_count": 21,
   "metadata": {},
   "outputs": [
    {
     "data": {
      "text/html": [
       "<div>\n",
       "<style scoped>\n",
       "    .dataframe tbody tr th:only-of-type {\n",
       "        vertical-align: middle;\n",
       "    }\n",
       "\n",
       "    .dataframe tbody tr th {\n",
       "        vertical-align: top;\n",
       "    }\n",
       "\n",
       "    .dataframe thead th {\n",
       "        text-align: right;\n",
       "    }\n",
       "</style>\n",
       "<table border=\"1\" class=\"dataframe\">\n",
       "  <thead>\n",
       "    <tr style=\"text-align: right;\">\n",
       "      <th></th>\n",
       "      <th>text</th>\n",
       "      <th>spam</th>\n",
       "    </tr>\n",
       "  </thead>\n",
       "  <tbody>\n",
       "    <tr>\n",
       "      <th>0</th>\n",
       "      <td>[Web발신]박춘규회원님손절주식은그만월급배만드는법http://lco.jp/eA</td>\n",
       "      <td>1</td>\n",
       "    </tr>\n",
       "    <tr>\n",
       "      <th>1</th>\n",
       "      <td>[Web발신]골든브릿지에서손실을보셨나요??http://bitly.kr/bRGtq[FW]</td>\n",
       "      <td>1</td>\n",
       "    </tr>\n",
       "    <tr>\n",
       "      <th>2</th>\n",
       "      <td>[Web발신][대//박]가(.원)입코(WN)드MEP.com</td>\n",
       "      <td>1</td>\n",
       "    </tr>\n",
       "    <tr>\n",
       "      <th>3</th>\n",
       "      <td>[Web발신](광고)이정미님아직도주식하시나요http://pf.kakao.com/_u...</td>\n",
       "      <td>1</td>\n",
       "    </tr>\n",
       "    <tr>\n",
       "      <th>4</th>\n",
       "      <td>[Web발신]송승용님사람이모이는곳에는이유가있습니다하루~정보공개is.gd/JsJP</td>\n",
       "      <td>1</td>\n",
       "    </tr>\n",
       "  </tbody>\n",
       "</table>\n",
       "</div>"
      ],
      "text/plain": [
       "                                                text  spam\n",
       "0        [Web발신]박춘규회원님손절주식은그만월급배만드는법http://lco.jp/eA     1\n",
       "1   [Web발신]골든브릿지에서손실을보셨나요??http://bitly.kr/bRGtq[FW]     1\n",
       "2                   [Web발신][대//박]가(.원)입코(WN)드MEP.com     1\n",
       "3  [Web발신](광고)이정미님아직도주식하시나요http://pf.kakao.com/_u...     1\n",
       "4       [Web발신]송승용님사람이모이는곳에는이유가있습니다하루~정보공개is.gd/JsJP     1"
      ]
     },
     "execution_count": 21,
     "metadata": {},
     "output_type": "execute_result"
    }
   ],
   "source": [
    "train.dropna(axis=0, inplace=True)\n",
    "train['spam'] = train['label'].map( {'spam': 1, 'ham': 0} ).astype(int)\n",
    "train.drop(['label'], axis=1, inplace=True)\n",
    "train.head()"
   ]
  },
  {
   "cell_type": "markdown",
   "metadata": {},
   "source": [
    "## 중복값 제거"
   ]
  },
  {
   "cell_type": "code",
   "execution_count": null,
   "metadata": {},
   "outputs": [],
   "source": [
    "train = train.drop_duplicates()"
   ]
  },
  {
   "cell_type": "markdown",
   "metadata": {},
   "source": [
    "## 불용어 사전"
   ]
  },
  {
   "cell_type": "code",
   "execution_count": 24,
   "metadata": {},
   "outputs": [],
   "source": [
    "stop_df = pd.read_csv('한국어불용어100.txt', sep = '\\t', header = None, names = ['형태','품사', '비율'])\n",
    "stop_list = list(stop_df['형태'])"
   ]
  },
  {
   "cell_type": "markdown",
   "metadata": {},
   "source": [
    "## 불용어 사전에 빈도수 높은 동일 단어 추가"
   ]
  },
  {
   "cell_type": "code",
   "execution_count": 25,
   "metadata": {
    "scrolled": true
   },
   "outputs": [
    {
     "data": {
      "text/plain": [
       "['이',\n",
       " '있',\n",
       " '하',\n",
       " '것',\n",
       " '들',\n",
       " '그',\n",
       " '되',\n",
       " '수',\n",
       " '이',\n",
       " '보',\n",
       " '않',\n",
       " '없',\n",
       " '나',\n",
       " '사람',\n",
       " '주',\n",
       " '아니',\n",
       " '등',\n",
       " '같',\n",
       " '우리',\n",
       " '때',\n",
       " '년',\n",
       " '가',\n",
       " '한',\n",
       " '지',\n",
       " '대하',\n",
       " '오',\n",
       " '말',\n",
       " '일',\n",
       " '그렇',\n",
       " '위하',\n",
       " '때문',\n",
       " '그것',\n",
       " '두',\n",
       " '말하',\n",
       " '알',\n",
       " '그러나',\n",
       " '받',\n",
       " '못하',\n",
       " '일',\n",
       " '그런',\n",
       " '또',\n",
       " '문제',\n",
       " '더',\n",
       " '사회',\n",
       " '많',\n",
       " '그리고',\n",
       " '좋',\n",
       " '크',\n",
       " '따르',\n",
       " '중',\n",
       " '나오',\n",
       " '가지',\n",
       " '씨',\n",
       " '시키',\n",
       " '만들',\n",
       " '지금',\n",
       " '생각하',\n",
       " '그러',\n",
       " '속',\n",
       " '하나',\n",
       " '집',\n",
       " '살',\n",
       " '모르',\n",
       " '적',\n",
       " '월',\n",
       " '데',\n",
       " '자신',\n",
       " '안',\n",
       " '어떤',\n",
       " '내',\n",
       " '내',\n",
       " '경우',\n",
       " '명',\n",
       " '생각',\n",
       " '시간',\n",
       " '그녀',\n",
       " '다시',\n",
       " '이런',\n",
       " '앞',\n",
       " '보이',\n",
       " '번',\n",
       " '나',\n",
       " '다른',\n",
       " '어떻',\n",
       " '여자',\n",
       " '개',\n",
       " '전',\n",
       " '들',\n",
       " '사실',\n",
       " '이렇',\n",
       " '점',\n",
       " '싶',\n",
       " '말',\n",
       " '정도',\n",
       " '좀',\n",
       " '원',\n",
       " '잘',\n",
       " '통하',\n",
       " '소리',\n",
       " '놓',\n",
       " 'Web발신',\n",
       " '발신',\n",
       " '광고',\n",
       " '무료',\n",
       " '거부']"
      ]
     },
     "execution_count": 25,
     "metadata": {},
     "output_type": "execute_result"
    }
   ],
   "source": [
    "stop_list_list = stop_list.copy()\n",
    "tmp = ['Web발신', '발신', '광고', '무료', '거부']\n",
    "for i in tmp:\n",
    "    stop_list_list.append(i)\n",
    "stop_list_list"
   ]
  },
  {
   "cell_type": "code",
   "execution_count": null,
   "metadata": {},
   "outputs": [],
   "source": [
    "# 특수기호 제거\n",
    "# train[\"text\"] = train[\"text\"].str.replace(pat=r'[^\\w]', repl=r'', regex=True)"
   ]
  },
  {
   "cell_type": "markdown",
   "metadata": {},
   "source": [
    "## 토큰화"
   ]
  },
  {
   "cell_type": "code",
   "execution_count": null,
   "metadata": {},
   "outputs": [],
   "source": [
    "mecab = Mecab()\n",
    "\n",
    "cv = CountVectorizer(tokenizer = mecab.nouns, stop_words = stop_list, turn).fit(train['text'])\n",
    "\n",
    "x_train = cv.transform(train['text'])\n",
    "x_test = cv.transform(test['text'])"
   ]
  },
  {
   "cell_type": "markdown",
   "metadata": {},
   "source": [
    "## model: multinomial - 전처리 test 용도"
   ]
  },
  {
   "cell_type": "code",
   "execution_count": null,
   "metadata": {},
   "outputs": [],
   "source": [
    "y_train = np.array(train['spam'])"
   ]
  },
  {
   "cell_type": "code",
   "execution_count": null,
   "metadata": {},
   "outputs": [],
   "source": [
    "clf = MultinomialNB().fit(x_train, y_train)"
   ]
  },
  {
   "cell_type": "code",
   "execution_count": null,
   "metadata": {},
   "outputs": [],
   "source": [
    "clf.score(x_train, y_train)"
   ]
  },
  {
   "cell_type": "code",
   "execution_count": null,
   "metadata": {},
   "outputs": [],
   "source": [
    "pred = clf.predict(x_test)"
   ]
  },
  {
   "cell_type": "code",
   "execution_count": null,
   "metadata": {},
   "outputs": [],
   "source": [
    "y_test = test['label']"
   ]
  },
  {
   "cell_type": "code",
   "execution_count": null,
   "metadata": {},
   "outputs": [],
   "source": [
    "from sklearn.metrics import classification_report\n",
    "print(classification_report(y_test, pred))"
   ]
  },
  {
   "cell_type": "markdown",
   "metadata": {},
   "source": [
    "## model: SGD (best⭐)"
   ]
  },
  {
   "cell_type": "code",
   "execution_count": null,
   "metadata": {},
   "outputs": [],
   "source": [
    "from sklearn.linear_model import SGDClassifier\n",
    "sgd = SGDClassifier()\n",
    "sgd.fit(x_train, y_train)"
   ]
  },
  {
   "cell_type": "code",
   "execution_count": null,
   "metadata": {},
   "outputs": [],
   "source": [
    "y_pred = sgd.predict(x_test)"
   ]
  },
  {
   "cell_type": "code",
   "execution_count": null,
   "metadata": {},
   "outputs": [],
   "source": [
    "tmp = []\n",
    "for y in y_pred:\n",
    "    if y >= 0.5: tmp.append(1)\n",
    "    else: tmp.append(0)"
   ]
  },
  {
   "cell_type": "code",
   "execution_count": null,
   "metadata": {},
   "outputs": [],
   "source": [
    "print(\"prediction accuracy: {:.2f}\".format(np.mean(tmp == y_test)))"
   ]
  },
  {
   "cell_type": "code",
   "execution_count": null,
   "metadata": {},
   "outputs": [],
   "source": [
    "from sklearn.metrics import classification_report\n",
    "print(classification_report(y_test, tmp))"
   ]
  },
  {
   "cell_type": "code",
   "execution_count": null,
   "metadata": {},
   "outputs": [],
   "source": []
  },
  {
   "cell_type": "markdown",
   "metadata": {},
   "source": [
    "## model: GradientBoosting (best⭐)"
   ]
  },
  {
   "cell_type": "code",
   "execution_count": null,
   "metadata": {},
   "outputs": [],
   "source": [
    "from sklearn.ensemble import GradientBoostingClassifier\n",
    "gbt = GradientBoostingClassifier(n_estimators=1500, max_depth=10)\n",
    "gbt.fit(x_train, y_train)"
   ]
  },
  {
   "cell_type": "code",
   "execution_count": null,
   "metadata": {},
   "outputs": [],
   "source": [
    "y_pred = gbt.predict(x_test)"
   ]
  },
  {
   "cell_type": "code",
   "execution_count": null,
   "metadata": {},
   "outputs": [],
   "source": [
    "print(\"prediction accuracy: {:.2f}\".format(np.mean(y_pred == y_test)))"
   ]
  },
  {
   "cell_type": "code",
   "execution_count": null,
   "metadata": {},
   "outputs": [],
   "source": [
    "from sklearn.metrics import classification_report\n",
    "print(classification_report(y_test, y_pred))"
   ]
  },
  {
   "cell_type": "markdown",
   "metadata": {},
   "source": [
    "---"
   ]
  },
  {
   "cell_type": "markdown",
   "metadata": {},
   "source": [
    "## multinomial로 전처리 test 결과\n",
    "- 중복 제거 + 결측치 ⇒ acc: 0.9322, f1-score: 0.91\n",
    "- 중복 제거 + 결측치 + 불용어 + 빈도수많은거 ⇒ acc: 0.9319, f1-score: 0.90\n",
    "- **중복 제거 + 결측치 + 불용어 ⇒ acc: 0.9348, f1-score: 0.91**\n",
    "- 중복 제거 + 결측치 + 빈도수많은거 ⇒ acc: 0.9283, f1-score: 0.90\n",
    "- 중복 제거 + 결측치 + 불용어 + 특수기호 제거 ⇒ acc: 0.9318, f1-score: 0.90\n",
    "- 중복 제거 + 결측치 + 특수기호 제거 ⇒ acc: 0.9311, f1-score: 0.91\n",
    "- 중복 제거 + 결측치 + 불용어 + 특수기호 제거 + 빈도수 많은거 ⇒ acc: 0.9294, f1-score: 0.90\n",
    "- 중복 제거 + 결측치 + 특수기호 제거 + 빈도수 많은거 ⇒ acc: 0.9282, f1-score: 0.90\n",
    "\n",
    "### 중복제거+결측치제거+불용어제거 한 성능이 best"
   ]
  },
  {
   "attachments": {
    "image.png": {
     "image/png": "[encoded data removed]"
    }
   },
   "cell_type": "markdown",
   "metadata": {},
   "source": [
    "### SGD: accuracy: 0.94 \n",
    "![image.png](attachment:image.png)"
   ]
  },
  {
   "attachments": {
    "image.png": {
     "image/png": "[encoded data removed]"
    }
   },
   "cell_type": "markdown",
   "metadata": {},
   "source": [
    "### GBT: accuracy: 0.94\n",
    "![image.png](attachment:image.png)"
   ]
  }
 ],
 "metadata": {
  "kernelspec": {
   "display_name": "Python 3",
   "language": "python",
   "name": "python3"
  },
  "language_info": {
   "codemirror_mode": {
    "name": "ipython",
    "version": 3
   },
   "file_extension": ".py",
   "mimetype": "text/x-python",
   "name": "python",
   "nbconvert_exporter": "python",
   "pygments_lexer": "ipython3",
   "version": "3.8.10"
  }
 },
 "nbformat": 4,
 "nbformat_minor": 2
}
